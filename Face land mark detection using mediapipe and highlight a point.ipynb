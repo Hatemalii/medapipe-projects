{
 "cells": [
  {
   "cell_type": "markdown",
   "metadata": {},
   "source": [
    "Import"
   ]
  },
  {
   "cell_type": "code",
   "execution_count": 1,
   "metadata": {},
   "outputs": [],
   "source": [
    "import cv2\n",
    "import mediapipe as mp\n",
    "import time"
   ]
  },
  {
   "cell_type": "markdown",
   "metadata": {},
   "source": [
    "Face Detection "
   ]
  },
  {
   "cell_type": "code",
   "execution_count": 15,
   "metadata": {},
   "outputs": [],
   "source": [
    "mp_face_mesh = mp.solutions.face_mesh\n",
    "face_mesh = mp_face_mesh.FaceMesh(static_image_mode = False,max_num_faces=3,refine_landmarks=True)\n",
    "\n",
    "mediaDraw = mp.solutions.drawing_utils\n",
    "drawing_spec = mediaDraw.DrawingSpec(thickness=1,circle_radius=1)\n",
    "cap = cv2.VideoCapture(0)\n",
    "pTime = 0\n",
    "cTime =0\n",
    "\n",
    "while True:\n",
    "    _,image = cap.read()\n",
    "    imgRgb = cv2.cvtColor(image,cv2.COLOR_BGR2RGB)\n",
    "    results = face_mesh.process(imgRgb)\n",
    "    \n",
    "    if results.multi_face_landmarks:\n",
    "        for faceLms in results.multi_face_landmarks:\n",
    "            mediaDraw.draw_landmarks(\n",
    "                image,faceLms, mp_face_mesh.FACEMESH_CONTOURS,\n",
    "                landmark_drawing_spec=drawing_spec,\n",
    "                connection_drawing_spec = drawing_spec\n",
    "                )\n",
    "    cTime = time.time()\n",
    "    fps = 1/(cTime-pTime)\n",
    "    pTime = cTime       \n",
    "    \n",
    "    #cv2.putText(image, f'FPS: {int(fps)}', (10, 70), cv2.FONT_HERSHEY_SIMPLEX, 1, (0, 255, 0), 2)\n",
    "    cv2.putText(image,str(int(fps)),(15,60),cv2.FONT_HERSHEY_PLAIN,4,(255,0,255))\n",
    "    cv2.imshow(\"Face Mesh\",image)\n",
    "    key = cv2.waitKey(1)\n",
    "    if key == ord('q'):\n",
    "        break\n",
    "cap.release()\n",
    "cv2.destroyAllWindows()            \n",
    "\n",
    "\n",
    "\n"
   ]
  },
  {
   "cell_type": "markdown",
   "metadata": {},
   "source": [
    "Face Detection with a point highlighted from user choice "
   ]
  },
  {
   "cell_type": "code",
   "execution_count": null,
   "metadata": {},
   "outputs": [],
   "source": [
    "import cv2\n",
    "import mediapipe as mp\n",
    "import time\n",
    "\n",
    "\n",
    "mp_face_mesh = mp.solutions.face_mesh\n",
    "face_mesh = mp_face_mesh.FaceMesh(\n",
    "    static_image_mode=False,\n",
    "    max_num_faces=3,            \n",
    "    refine_landmarks=True,      \n",
    "    min_detection_confidence=0.5,\n",
    "    min_tracking_confidence=0.5\n",
    ")\n",
    "\n",
    "\n",
    "mpDraw = mp.solutions.drawing_utils\n",
    "drawing_spec = mpDraw.DrawingSpec(thickness=1, circle_radius=1)\n",
    "\n",
    "# Initialize webcam\n",
    "cap = cv2.VideoCapture(0)\n",
    "pTime = 0\n",
    "\n",
    "while True:\n",
    "    success, img = cap.read()\n",
    "    if not success:\n",
    "        break\n",
    "\n",
    "    # Convert the frame to RGB (MediaPipe requires RGB)\n",
    "    imgRGB = cv2.cvtColor(img, cv2.COLOR_BGR2RGB)\n",
    "    results = face_mesh.process(imgRGB)\n",
    "\n",
    "    # If face landmarks are detected, process each face\n",
    "    if results.multi_face_landmarks:\n",
    "        for faceLms in results.multi_face_landmarks:\n",
    "            # Draw the full face mesh on the image\n",
    "            mpDraw.draw_landmarks(\n",
    "                img, faceLms, mp_face_mesh.FACEMESH_CONTOURS,\n",
    "                landmark_drawing_spec=drawing_spec,\n",
    "                connection_drawing_spec=drawing_spec\n",
    "            )\n",
    "            \n",
    "            # Optionally, loop through each landmark to get its pixel position\n",
    "            for idd, lm in enumerate(faceLms.landmark):\n",
    "                # Convert normalized landmark coordinates to pixel values\n",
    "                h, w, c = img.shape\n",
    "                cx, cy = int(lm.x * w), int(lm.y * h)\n",
    "                \n",
    "                # Example: Highlight landmark 10 with a circle\n",
    "                if idd == 10:\n",
    "                    cv2.circle(img, (cx, cy), 11, (255, 0, 255), cv2.FILLED)\n",
    "    \n",
    "    # Calculate and display the FPS\n",
    "    cTime = time.time()\n",
    "    fps = 1 / (cTime - pTime) if cTime != pTime else 0\n",
    "    pTime = cTime\n",
    "    cv2.putText(img, f'FPS: {int(fps)}', (10, 70), cv2.FONT_HERSHEY_SIMPLEX, 1, (0, 255, 0), 2)\n",
    "    \n",
    "    # Show the resulting frame\n",
    "    cv2.imshow(\"Face Mesh\", img)\n",
    "    key = cv2.waitKey(1) & 0xFF\n",
    "    if key == ord('q'):\n",
    "        break\n",
    "\n",
    "# Release resources\n",
    "cap.release()\n",
    "cv2.destroyAllWindows()\n"
   ]
  }
 ],
 "metadata": {
  "kernelspec": {
   "display_name": "Python 3",
   "language": "python",
   "name": "python3"
  },
  "language_info": {
   "codemirror_mode": {
    "name": "ipython",
    "version": 3
   },
   "file_extension": ".py",
   "mimetype": "text/x-python",
   "name": "python",
   "nbconvert_exporter": "python",
   "pygments_lexer": "ipython3",
   "version": "3.11.9"
  }
 },
 "nbformat": 4,
 "nbformat_minor": 2
}
